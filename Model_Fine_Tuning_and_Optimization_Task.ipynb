{
  "nbformat": 4,
  "nbformat_minor": 0,
  "metadata": {
    "colab": {
      "provenance": []
    },
    "kernelspec": {
      "name": "python3",
      "display_name": "Python 3"
    },
    "language_info": {
      "name": "python"
    }
  },
  "cells": [
    {
      "cell_type": "markdown",
      "source": [
        "# Task 0 - Fine tuning\n",
        "\n",
        "The objective of this task is to fine-tune any transformer based model(LLM included) of your choice on the following [dataset](https://www.kaggle.com/datasets/marawanxmamdouh/dialogsum). Perform Rouge and bleu evaluation.\n"
      ],
      "metadata": {
        "id": "aSG27MYdm2tA"
      }
    },
    {
      "cell_type": "markdown",
      "source": [
        "# Task 1 - Model tweaking\n",
        "\n",
        "Post obtaining the scores improve the scores further by implementing feature engineering / Data engineering strategies on the dataset. Showcase atleaset 10% improvement from the base score. And explain in breif why the particular stratey was chosen.\n"
      ],
      "metadata": {
        "id": "rt_CZwiJQ13B"
      }
    },
    {
      "cell_type": "markdown",
      "source": [
        "# Task 2 - Model Optimisation\n",
        "The objective of this task is to optimize your model and bring down its latency and size to atleast 40 percent of its base model (tweaked model). You are free to use any optimization strategy and framework.\n",
        "\n",
        "It is also your responsibility to showcase and compare the latency and model size of between the base model and optimized model using any python tool of your choice.\n",
        "\n",
        "Also perform Rouge and bleu evaluation on the optimized model  and compare it with the base model (tweaked model) ."
      ],
      "metadata": {
        "id": "918Fwh5DR8Cb"
      }
    },
    {
      "cell_type": "code",
      "source": [
        "#Do all your tasks in the same notebook and submit it back"
      ],
      "metadata": {
        "id": "5_uBUzLrxrKq"
      },
      "execution_count": null,
      "outputs": []
    }
  ]
}